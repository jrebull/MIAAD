{
  "nbformat": 4,
  "nbformat_minor": 0,
  "metadata": {
    "colab": {
      "provenance": [],
      "include_colab_link": true
    },
    "kernelspec": {
      "name": "python3",
      "display_name": "Python 3"
    },
    "language_info": {
      "name": "python"
    }
  },
  "cells": [
    {
      "cell_type": "markdown",
      "metadata": {
        "id": "view-in-github",
        "colab_type": "text"
      },
      "source": [
        "<a href=\"https://colab.research.google.com/github/jrebull/MIAAD/blob/main/MIAAD_Prope_Proyecto_p1_Algoritmos_Javier_Rebull.ipynb\" target=\"_parent\"><img src=\"https://colab.research.google.com/assets/colab-badge.svg\" alt=\"Open In Colab\"/></a>"
      ]
    },
    {
      "cell_type": "markdown",
      "source": [
        "<div align=\"center\">\n",
        "\n",
        "🎓\n",
        "# **Universidad Autónoma de Ciudad Juárez**\n",
        "## **Maestría en Inteligencia Artificial y Analítica de Datos (MIAAD)**\n",
        "<br><br>\n",
        "\n",
        "---\n",
        "<br>\n",
        "\n",
        "# 💻 *Proyecto - Análisis Teórico vs Análisis Empírico* 🐍\n",
        "<br>\n",
        "\n",
        "### MÓDULO 4: Análisis de Algoritmos\n",
        "<br>\n",
        "\n",
        "---\n",
        "<br>\n",
        "\n",
        "🧑‍🏫 **Profesor Titular:** Dr. Gilberto Rivera Zárate\n",
        "<br><br>\n",
        "\n",
        "---\n",
        "<br>\n",
        "\n",
        "🧑‍🎓 **Estudiante:**\n",
        "## **Javier Augusto Rebull Saucedo**\n",
        "Candidato a Entrar al Postgrado\n",
        "<br><br>\n",
        "\n",
        "</div>\n",
        "\n",
        "---\n",
        "\n",
        "<div align=\"right\">\n",
        "📚 Curso Propedéutico - MIAAD\n",
        "<br>\n",
        "📅 28 de mayo de 2025\n",
        "</div>\n",
        "\n",
        "\n",
        "\n",
        "\n",
        "\n",
        "---\n",
        "\n",
        "1.  Programa un algoritmo que multiplique dos matrices.\n",
        "    * Por simplicidad, considera solo matrices cuadradas n x n.\n",
        "    * Puedes utilizar el lenguaje de tu preferencia.\n",
        "    * No se permite utilizar instrucciones ni bibliotecas que automatizan la multiplicación de arreglos, vectores, o matrices.\n",
        "    * Las matrices deben inicializar sus n x n elementos aleatoriamente.\n",
        "\n",
        "---"
      ],
      "metadata": {
        "id": "B3_v3sPd7ZC2"
      }
    },
    {
      "cell_type": "markdown",
      "source": [
        "## Definicion de Librerias, (no para calculo de multiplicacion de matrices)\n"
      ],
      "metadata": {
        "id": "cVLKKjDEeXrE"
      }
    },
    {
      "cell_type": "code",
      "source": [
        "import random # Importamos la biblioteca random para generar números aleatorios"
      ],
      "metadata": {
        "id": "adp8jnP61sIW"
      },
      "execution_count": 1,
      "outputs": []
    },
    {
      "cell_type": "markdown",
      "source": [
        "# Inciamos la Definicion de Funciones"
      ],
      "metadata": {
        "id": "MsNyPyM22CZT"
      }
    },
    {
      "cell_type": "markdown",
      "source": [
        "#### Función para Generar Matrices Aleatorias\n",
        "\n",
        "Esta función se encarga de crear una matriz cuadrada ($n \\times n$) con elementos generados aleatoriamente.\n",
        "\n",
        "**Características:**\n",
        "\n",
        "* Crea una matriz cuadrada de dimensiones $n \\times n$.\n",
        "* Los elementos de la matriz se inicializan con valores enteros aleatorios.\n",
        "* Dichos valores aleatorios están comprendidos entre `valor_min` y `valor_max` (ambos inclusive)."
      ],
      "metadata": {
        "id": "Dckmk20h2-7_"
      }
    },
    {
      "cell_type": "code",
      "source": [
        "def crear_matriz_aleatoria(n, valor_min=0, valor_max=9):\n",
        "    matriz = []\n",
        "    for _ in range(n):  # Itera para cada fila\n",
        "        fila_actual = []\n",
        "        for _ in range(n):  # Itera para cada columna en la fila actual\n",
        "            # Genera un número aleatorio para el elemento de la matriz\n",
        "            elemento_aleatorio = random.randint(valor_min, valor_max)\n",
        "            fila_actual.append(elemento_aleatorio)\n",
        "        matriz.append(fila_actual)\n",
        "    return matriz"
      ],
      "metadata": {
        "id": "7zYZ3GxG3P0K"
      },
      "execution_count": 2,
      "outputs": []
    },
    {
      "cell_type": "markdown",
      "source": [
        "### Funcion para Imprimir la Matriz en pantalla de manera amistosa"
      ],
      "metadata": {
        "id": "1RhWfPdc4Uh5"
      }
    },
    {
      "cell_type": "code",
      "source": [
        "def imprimir_matriz(matriz, nombre_matriz=\"Matriz\"):\n",
        "    print(f\"\\n{nombre_matriz}:\")\n",
        "    if not matriz or not matriz[0]:\n",
        "        print(\"Error ---- Matriz vacía o inválida ----\")\n",
        "        return\n",
        "\n",
        "    ancho_columna = 4 # Ancho para alinear números\n",
        "\n",
        "    for fila in matriz:\n",
        "        for elemento in fila:\n",
        "            print(str(elemento).rjust(ancho_columna), end=\" \")\n",
        "\n",
        "\n",
        "        print()"
      ],
      "metadata": {
        "id": "NbcZZ74m4f1J"
      },
      "execution_count": 3,
      "outputs": []
    },
    {
      "cell_type": "markdown",
      "source": [
        "### Definimos la Función para el Cálculo de Matrices\n",
        "\n",
        "* Multiplica dos matrices cuadradas (`matriz_a` * `matriz_b`).\n",
        "* Las matrices deben ser de la misma dimensión $n \\times n$.\n",
        "* No utilizamos ninguna biblioteca que automatice la multiplicación.\n",
        "\n",
        "---\n",
        "\n",
        "Posteriormente, se realiza una verificación básica de dimensiones (aunque el problema asume que las matrices son cuadradas y de dimensiones correctas)."
      ],
      "metadata": {
        "id": "D00eQOR_45LE"
      }
    },
    {
      "cell_type": "code",
      "source": [
        "def multiplicar_matrices(matriz_a, matriz_b):\n",
        "\n",
        "    n = len(matriz_a) # Obtenemos el tamaño de la Matriz\n",
        "\n",
        "    # Verificación básica de dimensiones\n",
        "    if n == 0 or len(matriz_a[0]) != n or len(matriz_b) != n or len(matriz_b[0]) != n:\n",
        "        print(\"Error: Las matrices no son cuadradas o no tienen las mismas dimensiones.\")\n",
        "        return []\n",
        "\n",
        "    # Creamos la matriz resultado, inicializándola con ceros.\n",
        "    matriz_resultado = []\n",
        "    for _ in range(n):\n",
        "        fila_resultado_ceros = [0] * n\n",
        "        matriz_resultado.append(fila_resultado_ceros)\n",
        "\n",
        "    # Algoritmo de multiplicación de matrices\n",
        "    # aqui esta la parte de la tarea donde nos piden el Algoritmo para la multiplicacion de Matrices\n",
        "    for i in range(n):\n",
        "        for j in range(n):\n",
        "            suma_para_elemento_ij = 0\n",
        "            for k in range(n):\n",
        "                suma_para_elemento_ij += matriz_a[i][k] * matriz_b[k][j]\n",
        "            matriz_resultado[i][j] = suma_para_elemento_ij\n",
        "\n",
        "    return matriz_resultado"
      ],
      "metadata": {
        "id": "Q5if3W4H5iPw"
      },
      "execution_count": 4,
      "outputs": []
    },
    {
      "cell_type": "markdown",
      "source": [
        "### Función Principal\n",
        "\n",
        "Esta es la Función Principal que nos va a ayudar a tener un Menú principal e invocar a nuestras funciones que hemos definido para:\n",
        "\n",
        "* Creación aleatoria de Matriz\n",
        "* Impresión de Matriz\n",
        "* Multiplicación de matriz\n",
        "\n",
        "> Función principal que maneja el menú y el flujo del programa."
      ],
      "metadata": {
        "id": "gc05YzdM54YH"
      }
    },
    {
      "cell_type": "code",
      "source": [
        "# --- Programa Principal (Menusito) ---\n",
        "def main():\n",
        "\n",
        "    print(\"=====================================================\")\n",
        "    print(\"  Multiplicador de Matrices Cuadradas (n x n)  \")\n",
        "    print(\"         (Usando 'random' para inicializar)      \")\n",
        "    print(\"=====================================================\")\n",
        "\n",
        "    # Opcional: Inicializar la semilla de random si se desea reproducibilidad en pruebas\n",
        "    # random.seed(42) # Por ejemplo\n",
        "\n",
        "    while True:\n",
        "        print(\"\\n-----------------------------------------------------\")\n",
        "        entrada_usuario = input(\"Introduce el tamaño (n) para las matrices cuadradas \"\n",
        "                                \"(o escribe 'salir' para terminar): \")\n",
        "\n",
        "        if entrada_usuario.lower() == 'salir':\n",
        "            print(\"¡Gracias por usar el programa! Adiós.\")\n",
        "            break\n",
        "\n",
        "        try:\n",
        "            n = int(entrada_usuario)\n",
        "            if n <= 0:\n",
        "                print(\"El valor de n debe ser un entero positivo.\")\n",
        "                continue\n",
        "            if n > 15:\n",
        "                print(f\"Advertencia: n={n} es grande. La generación e impresión de matrices puede ser lenta.\")\n",
        "                confirmacion = input(\"¿Deseas continuar? (s/N): \")\n",
        "                if confirmacion.lower() != 's':\n",
        "                    continue\n",
        "        except ValueError:\n",
        "            print(\"Entrada inválida. Debes introducir un número entero para n.\")\n",
        "            continue\n",
        "\n",
        "        print(f\"\\nGenerando dos matrices ({n}x{n}) con elementos aleatorios (0-9)...\")\n",
        "\n",
        "        matriz_1 = crear_matriz_aleatoria(n, 0, 9) # Elementos entre 0 y 9\n",
        "        matriz_2 = crear_matriz_aleatoria(n, 0, 9) # Elementos entre 0 y 9\n",
        "\n",
        "        # Para asegurar que las matrices sean diferentes, no es necesario hacer nada\n",
        "        # especial, ya que random.randint() se encargará de ello en cada llamada.\n",
        "\n",
        "        imprimir_matriz(matriz_1, \"Matriz A\")\n",
        "        imprimir_matriz(matriz_2, \"Matriz B\")\n",
        "\n",
        "        print(\"\\nCalculando el producto (Matriz A * Matriz B)...\")\n",
        "        matriz_producto = multiplicar_matrices(matriz_1, matriz_2)\n",
        "\n",
        "        if matriz_producto:\n",
        "            imprimir_matriz(matriz_producto, \"Matriz Resultado (A * B)\")\n",
        "\n",
        "if __name__ == \"__main__\":\n",
        "    main()"
      ],
      "metadata": {
        "colab": {
          "base_uri": "https://localhost:8080/"
        },
        "id": "jDHtVnPY549R",
        "outputId": "59c2a9f4-c823-429f-f6cf-6e8564ee8ab4"
      },
      "execution_count": 6,
      "outputs": [
        {
          "output_type": "stream",
          "name": "stdout",
          "text": [
            "=====================================================\n",
            "  Multiplicador de Matrices Cuadradas (n x n)  \n",
            "         (Usando 'random' para inicializar)      \n",
            "=====================================================\n",
            "\n",
            "-----------------------------------------------------\n",
            "Introduce el tamaño (n) para las matrices cuadradas (o escribe 'salir' para terminar): 1\n",
            "\n",
            "Generando dos matrices (1x1) con elementos aleatorios (0-9)...\n",
            "\n",
            "Matriz A:\n",
            "   4 \n",
            "\n",
            "Matriz B:\n",
            "   4 \n",
            "\n",
            "Calculando el producto (Matriz A * Matriz B)...\n",
            "\n",
            "Matriz Resultado (A * B):\n",
            "  16 \n",
            "\n",
            "-----------------------------------------------------\n",
            "Introduce el tamaño (n) para las matrices cuadradas (o escribe 'salir' para terminar): 2\n",
            "\n",
            "Generando dos matrices (2x2) con elementos aleatorios (0-9)...\n",
            "\n",
            "Matriz A:\n",
            "   5    6 \n",
            "   9    2 \n",
            "\n",
            "Matriz B:\n",
            "   7    6 \n",
            "   9    6 \n",
            "\n",
            "Calculando el producto (Matriz A * Matriz B)...\n",
            "\n",
            "Matriz Resultado (A * B):\n",
            "  89   66 \n",
            "  81   66 \n",
            "\n",
            "-----------------------------------------------------\n",
            "Introduce el tamaño (n) para las matrices cuadradas (o escribe 'salir' para terminar): 10\n",
            "\n",
            "Generando dos matrices (10x10) con elementos aleatorios (0-9)...\n",
            "\n",
            "Matriz A:\n",
            "   3    7    3    9    7    1    4    9    8    3 \n",
            "   7    3    9    4    8    7    6    0    0    0 \n",
            "   9    0    1    2    9    3    3    6    6    8 \n",
            "   8    4    0    5    7    4    5    5    4    3 \n",
            "   8    9    7    4    2    0    1    3    5    6 \n",
            "   2    5    1    9    9    8    0    2    9    9 \n",
            "   2    0    8    0    5    4    6    7    7    7 \n",
            "   7    9    2    3    1    6    5    0    1    0 \n",
            "   6    8    0    3    6    9    7    4    0    8 \n",
            "   3    5    5    0    9    4    1    6    8    2 \n",
            "\n",
            "Matriz B:\n",
            "   7    8    9    1    2    7    9    5    9    0 \n",
            "   7    7    7    4    0    1    6    6    1    6 \n",
            "   0    7    9    3    5    5    8    5    9    4 \n",
            "   5    6    1    3    0    7    3    4    0    2 \n",
            "   4    3    1    7    8    2    6    9    2    0 \n",
            "   9    3    6    0    4    2    7    6    9    1 \n",
            "   9    6    3    9    5    7    7    8    4    4 \n",
            "   7    1    2    0    5    6    2    4    9    4 \n",
            "   1    5    8    8    1    0    1    0    7    4 \n",
            "   5    9    3    8    5    2    7    1    0    5 \n",
            "\n",
            "Calculando el producto (Matriz A * Matriz B)...\n",
            "\n",
            "Matriz Resultado (A * B):\n",
            " 274  272  228  240  169  210  244  248  237  172 \n",
            " 239  245  237  168  181  197  304  276  250   93 \n",
            " 251  253  212  220  198  179  265  213  243  111 \n",
            " 272  237  202  189  157  188  251  234  219  109 \n",
            " 212  294  271  188  122  169  266  189  214  156 \n",
            " 270  291  231  259  177  151  269  227  203  149 \n",
            " 215  240  228  227  207  170  252  202  272  151 \n",
            " 231  207  207  118   82  138  226  196  173   98 \n",
            " 349  285  226  216  191  190  323  278  219  147 \n",
            " 197  203  225  190  172  124  220  209  245  124 \n",
            "\n",
            "-----------------------------------------------------\n",
            "Introduce el tamaño (n) para las matrices cuadradas (o escribe 'salir' para terminar): salir\n",
            "¡Gracias por usar el programa! Adiós.\n"
          ]
        }
      ]
    }
  ]
}