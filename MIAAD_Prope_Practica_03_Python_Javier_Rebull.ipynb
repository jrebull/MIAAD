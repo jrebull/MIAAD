{
  "nbformat": 4,
  "nbformat_minor": 0,
  "metadata": {
    "colab": {
      "provenance": [],
      "include_colab_link": true
    },
    "kernelspec": {
      "name": "python3",
      "display_name": "Python 3"
    },
    "language_info": {
      "name": "python"
    }
  },
  "cells": [
    {
      "cell_type": "markdown",
      "metadata": {
        "id": "view-in-github",
        "colab_type": "text"
      },
      "source": [
        "<a href=\"https://colab.research.google.com/github/jrebull/MIAAD/blob/main/MIAAD_Prope_Practica_03_Python_Javier_Rebull.ipynb\" target=\"_parent\"><img src=\"https://colab.research.google.com/assets/colab-badge.svg\" alt=\"Open In Colab\"/></a>"
      ]
    },
    {
      "cell_type": "markdown",
      "source": [
        "<div align=\"center\">\n",
        "\n",
        "🎓\n",
        "# **Universidad Autónoma de Ciudad Juárez**\n",
        "## **Maestría en Inteligencia Artificial y Analítica de Datos (MIAAD)**\n",
        "<br><br>\n",
        "\n",
        "---\n",
        "<br>\n",
        "\n",
        "# 💻 **Practica 3. Conversión de Celsius a Fahrenheit* 🐍\n",
        "<br>\n",
        "\n",
        "### MÓDULO 3: Programación\n",
        "<br>\n",
        "\n",
        "---\n",
        "<br>\n",
        "\n",
        "🧑‍🏫 **Profesor Titular:** Dr. Luis Carlos Méndez González\n",
        "<br><br>\n",
        "\n",
        "---\n",
        "<br>\n",
        "\n",
        "🧑‍🎓 **Estudiante:**\n",
        "## **Javier Augusto Rebull Saucedo**\n",
        "Candidato a Entrar al Postgrado\n",
        "<br><br>\n",
        "\n",
        "</div>\n",
        "\n",
        "---\n",
        "\n",
        "<div align=\"right\">\n",
        "📚 Curso Propedéutico - MIAAD\n",
        "<br>\n",
        "📅 01 de junio de 2025\n",
        "</div>\n",
        "\n",
        "\n",
        "\n",
        "---\n",
        "\n",
        "# Conversión de Temperatura\n",
        "\n",
        "## **Descripción:**\n",
        "Pide al usuario que ingrese una temperatura en Celsius y la convierte a Fahrenheit.\n",
        "\n",
        "## **Instrucciones:**\n",
        "1. Solicita al usuario que ingrese la temperatura en Celsius.\n",
        "2. Convierte la temperatura usando la fórmula F = (C × 9/5) + 32\n",
        "3. Imprime la temperatura en Fahrenheit.\n",
        "4. Envíe su archivo .py y una captura de pantalla con al menos 3 conversiones realizadas por su código.\n",
        "\n",
        "---"
      ],
      "metadata": {
        "id": "B3_v3sPd7ZC2"
      }
    },
    {
      "cell_type": "code",
      "source": [
        "print(\"Conversor de Temperatura: Celsius a Fahrenheit\")\n",
        "print(\"-\" * 55)\n",
        "\n",
        "for i in range(5):\n",
        "    print(f\"\\n--- Conversión {i + 1} de 5 ---\")\n",
        "    try:\n",
        "        celsius_str = input(f\"({i + 1}/5) Ingresa la temperatura en grados Celsius (°C): \")\n",
        "        celsius = float(celsius_str)\n",
        "\n",
        "        fahrenheit = (celsius * 9/5) + 32\n",
        "\n",
        "        print(f\"Resultado: {celsius}°C equivale a {fahrenheit:.2f}°F\")\n",
        "\n",
        "    except ValueError:\n",
        "        print(\"Error: Por favor, ingresa un valor numérico válido para la temperatura.\")\n",
        "    except Exception as e:\n",
        "        print(f\"Ha ocurrido un error inesperado: {e}\")\n",
        "\n",
        "print(\"-\" * 55)\n",
        "print()\n",
        "print(\"hasta luegoooooo\")"
      ],
      "metadata": {
        "colab": {
          "base_uri": "https://localhost:8080/"
        },
        "id": "njVlmJEuCMUD",
        "outputId": "2522f282-ef48-4499-dd7c-3efeb088b1b0"
      },
      "execution_count": 1,
      "outputs": [
        {
          "output_type": "stream",
          "name": "stdout",
          "text": [
            "Conversor de Temperatura: Celsius a Fahrenheit\n",
            "-------------------------------------------------------\n",
            "\n",
            "--- Conversión 1 de 5 ---\n",
            "(1/5) Ingresa la temperatura en grados Celsius (°C): 1\n",
            "Resultado: 1.0°C equivale a 33.80°F\n",
            "\n",
            "--- Conversión 2 de 5 ---\n",
            "(2/5) Ingresa la temperatura en grados Celsius (°C): 0\n",
            "Resultado: 0.0°C equivale a 32.00°F\n",
            "\n",
            "--- Conversión 3 de 5 ---\n",
            "(3/5) Ingresa la temperatura en grados Celsius (°C): x\n",
            "Error: Por favor, ingresa un valor numérico válido para la temperatura.\n",
            "\n",
            "--- Conversión 4 de 5 ---\n",
            "(4/5) Ingresa la temperatura en grados Celsius (°C): 999\n",
            "Resultado: 999.0°C equivale a 1830.20°F\n",
            "\n",
            "--- Conversión 5 de 5 ---\n",
            "(5/5) Ingresa la temperatura en grados Celsius (°C): 24\n",
            "Resultado: 24.0°C equivale a 75.20°F\n",
            "-------------------------------------------------------\n",
            "\n",
            "hasta luegoooooo\n"
          ]
        }
      ]
    }
  ]
}