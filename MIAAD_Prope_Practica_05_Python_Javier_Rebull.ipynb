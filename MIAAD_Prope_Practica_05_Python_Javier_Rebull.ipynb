{
  "nbformat": 4,
  "nbformat_minor": 0,
  "metadata": {
    "colab": {
      "provenance": [],
      "include_colab_link": true
    },
    "kernelspec": {
      "name": "python3",
      "display_name": "Python 3"
    },
    "language_info": {
      "name": "python"
    }
  },
  "cells": [
    {
      "cell_type": "markdown",
      "metadata": {
        "id": "view-in-github",
        "colab_type": "text"
      },
      "source": [
        "<a href=\"https://colab.research.google.com/github/jrebull/MIAAD/blob/main/MIAAD_Prope_Practica_05_Python_Javier_Rebull.ipynb\" target=\"_parent\"><img src=\"https://colab.research.google.com/assets/colab-badge.svg\" alt=\"Open In Colab\"/></a>"
      ]
    },
    {
      "cell_type": "markdown",
      "source": [
        "<div align=\"center\">\n",
        "\n",
        "🎓\n",
        "# **Universidad Autónoma de Ciudad Juárez**\n",
        "## **Maestría en Inteligencia Artificial y Analítica de Datos (MIAAD)**\n",
        "<br><br>\n",
        "\n",
        "---\n",
        "<br>\n",
        "\n",
        "# 💻 *Practica 5. Generador de Tabla de Multiplicar* 🐍\n",
        "<br>\n",
        "\n",
        "### MÓDULO 2: Programación\n",
        "<br>\n",
        "\n",
        "---\n",
        "<br>\n",
        "\n",
        "🧑‍🏫 **Profesor Titular:** Dr. Luis Carlos Méndez González\n",
        "<br><br>\n",
        "\n",
        "---\n",
        "<br>\n",
        "\n",
        "🧑‍🎓 **Estudiante:**\n",
        "## **Javier Augusto Rebull Saucedo**\n",
        "Candidato a Entrar al Postgrado\n",
        "<br><br>\n",
        "\n",
        "</div>\n",
        "\n",
        "---\n",
        "\n",
        "<div align=\"right\">\n",
        "📚 Curso Propedéutico - MIAAD\n",
        "<br>\n",
        "📅 01 de junio de 2025\n",
        "</div>\n",
        "\n",
        "\n",
        "\n",
        "\n",
        "\n",
        "---\n",
        "\n",
        "Crea un programa que pida al usuario un número y genere la tabla de multiplicar de ese número del 1 al 10.\n",
        "\n",
        "**Instrucciones:**\n",
        "\n",
        "* Pide al usuario que ingrese un número.\n",
        "* Usa un bucle `for` para iterar del 1 al 10 y calcular el producto del número ingresado por cada uno de esos valores.\n",
        "* Imprime el resultado en un formato legible. (puede emplear algo similar a esta linea:\n",
        "  `print(f\"{numero} x {i} = {resultado}\")`)\n",
        "* Recuerde enviar su `.py` y capturas de pantalla de los resultados obtenidos\n",
        "\n",
        "---"
      ],
      "metadata": {
        "id": "B3_v3sPd7ZC2"
      }
    },
    {
      "cell_type": "code",
      "source": [
        "print(\"Generador de Tabla de Multiplicar\")\n",
        "print(\"---------------------------------\")\n",
        "\n",
        "while True:\n",
        "    try:\n",
        "        numero_str = input(\"Dame un número para generar su tabla de multiplicar: \")\n",
        "        numero = int(numero_str) # Convertir entrada a entero\n",
        "        break # Salir del bucle si la conversión es exitosa\n",
        "    except ValueError:\n",
        "        print(\"Fallaste recio mete un número enterooooo.\")\n",
        "\n",
        "print(f\"\\n--- La Tabla de Multiplicar del {numero} ---\")\n",
        "\n",
        "# Generar e imprimir la tabla del 1 al 10\n",
        "for i in range(1, 11):\n",
        "    resultado = numero * i\n",
        "    print(f\"{numero} x {i} = {resultado}\")\n",
        "\n",
        "print(\"---------------------------------\")\n",
        "print()\n",
        "print(\"Tabla generada exitosamente.\")\n",
        "print()\n",
        "print(\"Hasta el Topeeeeee\")"
      ],
      "metadata": {
        "colab": {
          "base_uri": "https://localhost:8080/"
        },
        "id": "njVlmJEuCMUD",
        "outputId": "f707f371-92ce-4b78-fa43-2f4ac32f769f"
      },
      "execution_count": 3,
      "outputs": [
        {
          "output_type": "stream",
          "name": "stdout",
          "text": [
            "Generador de Tabla de Multiplicar\n",
            "---------------------------------\n",
            "Dame un número para generar su tabla de multiplicar: -80\n",
            "\n",
            "--- La Tabla de Multiplicar del -80 ---\n",
            "-80 x 1 = -80\n",
            "-80 x 2 = -160\n",
            "-80 x 3 = -240\n",
            "-80 x 4 = -320\n",
            "-80 x 5 = -400\n",
            "-80 x 6 = -480\n",
            "-80 x 7 = -560\n",
            "-80 x 8 = -640\n",
            "-80 x 9 = -720\n",
            "-80 x 10 = -800\n",
            "---------------------------------\n",
            "\n",
            "Tabla generada exitosamente.\n",
            "\n",
            "Hasta el Topeeeeee\n"
          ]
        }
      ]
    }
  ]
}