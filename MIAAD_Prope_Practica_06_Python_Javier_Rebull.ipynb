{
  "nbformat": 4,
  "nbformat_minor": 0,
  "metadata": {
    "colab": {
      "provenance": [],
      "include_colab_link": true
    },
    "kernelspec": {
      "name": "python3",
      "display_name": "Python 3"
    },
    "language_info": {
      "name": "python"
    }
  },
  "cells": [
    {
      "cell_type": "markdown",
      "metadata": {
        "id": "view-in-github",
        "colab_type": "text"
      },
      "source": [
        "<a href=\"https://colab.research.google.com/github/jrebull/MIAAD/blob/main/MIAAD_Prope_Practica_06_Python_Javier_Rebull.ipynb\" target=\"_parent\"><img src=\"https://colab.research.google.com/assets/colab-badge.svg\" alt=\"Open In Colab\"/></a>"
      ]
    },
    {
      "cell_type": "markdown",
      "source": [
        "<div align=\"center\">\n",
        "\n",
        "🎓\n",
        "# **Universidad Autónoma de Ciudad Juárez**\n",
        "## **Maestría en Inteligencia Artificial y Analítica de Datos (MIAAD)**\n",
        "<br><br>\n",
        "\n",
        "---\n",
        "<br>\n",
        "\n",
        "# 💻 *Practica 6. Calculadora de Áreas* 🐍\n",
        "<br>\n",
        "\n",
        "### MÓDULO 2: Programación\n",
        "<br>\n",
        "\n",
        "---\n",
        "<br>\n",
        "\n",
        "🧑‍🏫 **Profesor Titular:** Dr. Luis Carlos Méndez González\n",
        "<br><br>\n",
        "\n",
        "---\n",
        "<br>\n",
        "\n",
        "🧑‍🎓 **Estudiante:**\n",
        "## **Javier Augusto Rebull Saucedo**\n",
        "Candidato a Entrar al Postgrado\n",
        "<br><br>\n",
        "\n",
        "</div>\n",
        "\n",
        "---\n",
        "\n",
        "<div align=\"right\">\n",
        "📚 Curso Propedéutico - MIAAD\n",
        "<br>\n",
        "📅 01 de junio de 2025\n",
        "</div>\n",
        "\n",
        "\n",
        "\n",
        "\n",
        "\n",
        "---\n",
        "\n",
        "Crea un programa que defina funciones para calcular el área de un círculo, un rectángulo y un triángulo. Luego, permite al usuario elegir qué figura quiere calcular y pide los parámetros necesarios.\n",
        "\n",
        "**Instrucciones:**\n",
        "\n",
        "* Define una función `area_circulo(radio)` que calcule el área de un círculo.\n",
        "* Define una función `area_rectangulo(base, altura)` que calcule el área de un rectángulo.\n",
        "* Define una función `area_triangulo(base, altura)` que calcule el área de un triángulo.\n",
        "* Permite al usuario seleccionar la figura de la que quiere calcular el área e ingresar los valores necesarios. Diseña un pequeño menu de seleccion del tipo de area que desea calcular\n",
        "* Muestra el resultado del cálculo.\n",
        "* Recuerde enviar su `.py` y capturas de pantalla de los resultados obtenidos\n",
        "\n",
        "---"
      ],
      "metadata": {
        "id": "B3_v3sPd7ZC2"
      }
    },
    {
      "cell_type": "markdown",
      "source": [
        "# Definicion de Funciones"
      ],
      "metadata": {
        "id": "cVLKKjDEeXrE"
      }
    },
    {
      "cell_type": "code",
      "source": [
        "####\n",
        "######## Definicion de las funciones\n",
        "####\n",
        "\n",
        "PI = 3.1415926535 # Definición de PI para el cálculo del círculo\n",
        "\n",
        "def area_circulo(radio):\n",
        "    return PI * radio * radio # Calcula el área de un círculo dado su radio\n",
        "\n",
        "def area_rectangulo(base, altura):\n",
        "    return base * altura # Calcula el área de un rectángulo dada su base y altura.\n",
        "\n",
        "def area_triangulo(base, altura):\n",
        "    return 0.5 * base * altura # Calcula el área de un triángulo dada su base y altura.\n",
        "\n",
        "def obtener_medida_positiva(mensaje_prompt): # Pedir una medida que sea numero positivaa\n",
        "    while True:\n",
        "        try:\n",
        "            medida_str = input(mensaje_prompt)\n",
        "            medida = float(medida_str) #como usamos INT el valor siempre sera cadena de texto\n",
        "            if medida > 0:\n",
        "                return medida\n",
        "            else:\n",
        "                print(\"Error: Jefe solo Numeros Positivos ponte abusado\")\n",
        "        except ValueError:\n",
        "            print(\"Error: Solo Numeros Jefeee.\")\n",
        "        except Exception as e: # Captura otros errores inesperados\n",
        "            print(f\"fatality erroorrr: {e}\")"
      ],
      "metadata": {
        "id": "yrtlm8CKeW1k"
      },
      "execution_count": 1,
      "outputs": []
    },
    {
      "cell_type": "markdown",
      "source": [
        "# Creacion de Menu interactivo con el Usuario\n",
        "###Para salir seleccione el 4\n"
      ],
      "metadata": {
        "id": "mbKXf7kUeeqQ"
      }
    },
    {
      "cell_type": "code",
      "source": [
        "# ########## --- Menú Principal --- ##########\n",
        "print(\"----------------------------------------------------------\")\n",
        "print(\"  Calculadora de Áreas Geométricas - MIAAD Propedeutico.  \")\n",
        "print(\"----------------------------------------------------------\")\n",
        "\n",
        "while True:\n",
        "    print(\"\\nQue Area le gustaria que le calcularamos mi jefe:\")\n",
        "    print(\"1. Círculo\")\n",
        "    print(\"2. Rectángulo\")\n",
        "    print(\"3. Triángulo\")\n",
        "    print(\"4. Vamonooos\")\n",
        "\n",
        "    opcion = input(\"\\nPor Favor Elige un numero del Menu: \")\n",
        "\n",
        "    if opcion == '1':\n",
        "        print(\"\\n--- Área del Círculo ---\")\n",
        "        # Aquí se llama a obtener_medida_positiva, que maneja errores de entrada\n",
        "        radio_usuario = obtener_medida_positiva(\"Ingrese el radio del círculo: \")\n",
        "        resultado_area = area_circulo(radio_usuario)\n",
        "        print(f\"El área del círculo con radio {radio_usuario} es: {resultado_area:.6f}\")\n",
        "\n",
        "    elif opcion == '2':\n",
        "        print(\"\\n--- Área del Rectángulo ---\")\n",
        "        base_usuario = obtener_medida_positiva(\"Ingrese la base del rectángulo: \")\n",
        "        altura_usuario = obtener_medida_positiva(\"Ingrese la altura del rectángulo: \")\n",
        "        resultado_area = area_rectangulo(base_usuario, altura_usuario)\n",
        "        print(f\"El área del rectángulo con base {base_usuario} y altura {altura_usuario}\")\n",
        "        print(f\"es: {resultado_area:.6f}\")\n",
        "\n",
        "\n",
        "    elif opcion == '3':\n",
        "        print(\"\\n--- Área del Triángulo ---\")\n",
        "        base_usuario = obtener_medida_positiva(\"Ingrese la base del triángulo: \")\n",
        "        altura_usuario = obtener_medida_positiva(\"Ingrese la altura del triángulo: \")\n",
        "        resultado_area = area_triangulo(base_usuario, altura_usuario)\n",
        "        print(f\"El área del triángulo con base {base_usuario}\")\n",
        "        print(f\"y altura {altura_usuario} es: {resultado_area:.6f}\")\n",
        "\n",
        "    elif opcion == '4':\n",
        "        print(\"\\nTe Rifaste nos Vemoooos \\n Hasta luegooooo\")\n",
        "        break # Rompemos el programa\n",
        "\n",
        "    else:\n",
        "        print(\"Te equivocaste, Ocpciones Disponibles 1, 2, 3 o 4\")\n",
        "\n",
        "    print(\"-------------------------------------\") # Separador para la siguiente iteración"
      ],
      "metadata": {
        "colab": {
          "base_uri": "https://localhost:8080/",
          "height": 0
        },
        "id": "eG-t8XTBpQDd",
        "outputId": "0129daf2-17ff-47e3-cd2d-369e8f5efed9"
      },
      "execution_count": 3,
      "outputs": [
        {
          "output_type": "stream",
          "name": "stdout",
          "text": [
            "----------------------------------------------------------\n",
            "  Calculadora de Áreas Geométricas - MIAAD Propedeutico.  \n",
            "----------------------------------------------------------\n",
            "\n",
            "Que Area le gustaria que le calcularamos mi jefe:\n",
            "1. Círculo\n",
            "2. Rectángulo\n",
            "3. Triángulo\n",
            "4. Vamonooos\n",
            "\n",
            "Por Favor Elige un numero del Menu: x\n",
            "Te equivocaste, Ocpciones Disponibles 1, 2, 3 o 4\n",
            "-------------------------------------\n",
            "\n",
            "Que Area le gustaria que le calcularamos mi jefe:\n",
            "1. Círculo\n",
            "2. Rectángulo\n",
            "3. Triángulo\n",
            "4. Vamonooos\n",
            "\n",
            "Por Favor Elige un numero del Menu: 1\n",
            "\n",
            "--- Área del Círculo ---\n",
            "Ingrese el radio del círculo: 0\n",
            "Error: Jefe solo Numeros Positivos ponte abusado\n",
            "Ingrese el radio del círculo: 1\n",
            "El área del círculo con radio 1.0 es: 3.141593\n",
            "-------------------------------------\n",
            "\n",
            "Que Area le gustaria que le calcularamos mi jefe:\n",
            "1. Círculo\n",
            "2. Rectángulo\n",
            "3. Triángulo\n",
            "4. Vamonooos\n",
            "\n",
            "Por Favor Elige un numero del Menu: 2\n",
            "\n",
            "--- Área del Rectángulo ---\n",
            "Ingrese la base del rectángulo: 50\n",
            "Ingrese la altura del rectángulo: 20\n",
            "El área del rectángulo con base 50.0 y altura 20.0\n",
            "es: 1000.000000\n",
            "-------------------------------------\n",
            "\n",
            "Que Area le gustaria que le calcularamos mi jefe:\n",
            "1. Círculo\n",
            "2. Rectángulo\n",
            "3. Triángulo\n",
            "4. Vamonooos\n",
            "\n",
            "Por Favor Elige un numero del Menu: 3\n",
            "\n",
            "--- Área del Triángulo ---\n",
            "Ingrese la base del triángulo: 0.0001\n",
            "Ingrese la altura del triángulo: 8000\n",
            "El área del triángulo con base 0.0001\n",
            "y altura 8000.0 es: 0.400000\n",
            "-------------------------------------\n",
            "\n",
            "Que Area le gustaria que le calcularamos mi jefe:\n",
            "1. Círculo\n",
            "2. Rectángulo\n",
            "3. Triángulo\n",
            "4. Vamonooos\n",
            "\n",
            "Por Favor Elige un numero del Menu: 4\n",
            "\n",
            "Te Rifaste nos Vemoooos \n",
            " Hasta luegooooo\n"
          ]
        }
      ]
    }
  ]
}