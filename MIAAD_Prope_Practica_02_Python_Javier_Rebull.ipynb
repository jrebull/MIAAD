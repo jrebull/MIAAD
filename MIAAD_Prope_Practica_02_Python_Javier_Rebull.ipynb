{
  "nbformat": 4,
  "nbformat_minor": 0,
  "metadata": {
    "colab": {
      "provenance": [],
      "include_colab_link": true
    },
    "kernelspec": {
      "name": "python3",
      "display_name": "Python 3"
    },
    "language_info": {
      "name": "python"
    }
  },
  "cells": [
    {
      "cell_type": "markdown",
      "metadata": {
        "id": "view-in-github",
        "colab_type": "text"
      },
      "source": [
        "<a href=\"https://colab.research.google.com/github/jrebull/MIAAD/blob/main/MIAAD_Prope_Practica_02_Python_Javier_Rebull.ipynb\" target=\"_parent\"><img src=\"https://colab.research.google.com/assets/colab-badge.svg\" alt=\"Open In Colab\"/></a>"
      ]
    },
    {
      "cell_type": "markdown",
      "source": [
        "<div align=\"center\">\n",
        "\n",
        "🎓\n",
        "# **Universidad Autónoma de Ciudad Juárez**\n",
        "## **Maestría en Inteligencia Artificial y Analítica de Datos (MIAAD)**\n",
        "<br><br>\n",
        "\n",
        "---\n",
        "<br>\n",
        "\n",
        "# 💻 **Practica 2: Input y print en Python** 🐍\n",
        "<br>\n",
        "\n",
        "### MÓDULO 2: Programación\n",
        "<br>\n",
        "\n",
        "---\n",
        "<br>\n",
        "\n",
        "🧑‍🏫 **Profesor Titular:** Dr. Luis Carlos Méndez González\n",
        "<br><br>\n",
        "\n",
        "---\n",
        "<br>\n",
        "\n",
        "🧑‍🎓 **Estudiante:**\n",
        "## **Javier Augusto Rebull Saucedo**\n",
        "Candidato a Entrar al Postgrado\n",
        "<br><br>\n",
        "\n",
        "</div>\n",
        "\n",
        "---\n",
        "\n",
        "<div align=\"right\">\n",
        "📚 Curso Propedéutico - MIAAD\n",
        "<br>\n",
        "📅 01 de junio de 2025\n",
        "</div>\n",
        "\n",
        "\n",
        "\n",
        "---\n",
        "\n",
        "## 📝 Descripción\n",
        "\n",
        "Crea un programa que solicite al usuario su nombre, edad, dirección y número de teléfono. Luego, el programa deberá imprimir un mensaje personalizado utilizando la información proporcionada.\n",
        "\n",
        "---\n",
        "\n",
        "## ⚙️ Instrucciones:\n",
        "\n",
        "1.  Utiliza la función `input()` para solicitar y recibir los siguientes datos del usuario:\n",
        "    * Nombre completo\n",
        "    * Edad\n",
        "    * Dirección\n",
        "    * Número de teléfono\n",
        "2.  Con la información recolectada, utiliza la función `print()` para mostrar un mensaje con el siguiente formato exacto (reemplazando los `{PLACEHOLDERS}` con los datos ingresados):\n",
        "\n",
        "    ```text\n",
        "    HOLA, MI NOMBRE ES:{NOMBREINGRESADO},\n",
        "    y TENGO {EDAD}AÑOS,\n",
        "    Y VIVO EN {DIRECCION},\n",
        "    CON NUMERO DE TELEFONO{TELEFONO}\n",
        "    ```\n",
        "    *(**Nota:** Asegúrate de que `NOMBREINGRESADO` y `DIRECCION` aparezcan en mayúsculas en el mensaje final, como se muestra en el ejemplo).*\n",
        "\n",
        "3.  **Entrega:**\n",
        "    * Envía tu archivo de código Python (con extensión `.py`).\n",
        "    * Incluye una captura de pantalla que muestre la ejecución de tu programa y el resultado obtenido.\n",
        "\n",
        "---"
      ],
      "metadata": {
        "id": "B3_v3sPd7ZC2"
      }
    },
    {
      "cell_type": "code",
      "source": [
        "# Mensaje de bienvenida\n",
        "print(\"¡Bienvenido/a al programa de registro de datos!\")\n",
        "print(\"Por favor, completa la siguiente información.\")\n",
        "print(\"-\" * 40)\n",
        "\n",
        "# Solicitar datos al usuario\n",
        "nombre_ingresado = input(\"Por favor, introduce tu nombre completo: \")\n",
        "edad_ingresada_str = input(\"Introduce tu edad: \")\n",
        "direccion_ingresada = input(\"Introduce tu dirección: \")\n",
        "telefono_ingresado = input(\"Introduce tu número de teléfono: \")\n",
        "\n",
        "print(\"-\" * 40) # Otra línea separadora"
      ],
      "metadata": {
        "colab": {
          "base_uri": "https://localhost:8080/",
          "height": 0
        },
        "id": "XFW85pVf0eJi",
        "outputId": "f7cc604d-8666-4980-8568-6912240ea5c6"
      },
      "execution_count": 1,
      "outputs": [
        {
          "output_type": "stream",
          "name": "stdout",
          "text": [
            "¡Bienvenido/a al programa de registro de datos!\n",
            "Por favor, completa la siguiente información.\n",
            "----------------------------------------\n",
            "Por favor, introduce tu nombre completo: Donald John Trump\n",
            "Introduce tu edad: 78\n",
            "Introduce tu dirección: 1600 Pennsylvania Avenue NW, Washington, DC 20500\n",
            "Introduce tu número de teléfono: +1 (202) 456-7041\n",
            "----------------------------------------\n"
          ]
        }
      ]
    },
    {
      "cell_type": "code",
      "source": [
        "# Crear mensaje en partes para que salga en el PDF impreso\n",
        "mensaje_parte1 = f\"HOLA, MI NOMBRE ES: {nombre_ingresado.upper()}\"\n",
        "mensaje_parte2 = f\"TENGO {edad_ingresada_str} AÑOS\"\n",
        "mensaje_parte3 = f\"VIVO EN {direccion_ingresada.upper()}\"\n",
        "mensaje_parte4 = f\"MI NÚMERO DE TELÉFONO ES: {telefono_ingresado}\"\n",
        "\n",
        "# Imprimir cada parte del mensaje con formato adecuado\n",
        "print(\"-\" * 80)\n",
        "print(mensaje_parte1)\n",
        "print(mensaje_parte2)\n",
        "print(mensaje_parte3)\n",
        "print(mensaje_parte4)\n",
        "print(\"-\" * 80)\n",
        "\n",
        "print(\"¡hasta luegoooo!\")"
      ],
      "metadata": {
        "colab": {
          "base_uri": "https://localhost:8080/",
          "height": 0
        },
        "id": "VOJDIeNM1sHv",
        "outputId": "73208055-c2f6-4c33-b491-732780fbe954"
      },
      "execution_count": 7,
      "outputs": [
        {
          "output_type": "stream",
          "name": "stdout",
          "text": [
            "--------------------------------------------------------------------------------\n",
            "HOLA, MI NOMBRE ES: DONALD JOHN TRUMP\n",
            "TENGO 78 AÑOS\n",
            "VIVO EN 1600 PENNSYLVANIA AVENUE NW, WASHINGTON, DC 20500\n",
            "MI NÚMERO DE TELÉFONO ES: +1 (202) 456-7041\n",
            "--------------------------------------------------------------------------------\n",
            "¡hasta luegoooo!\n"
          ]
        }
      ]
    }
  ]
}