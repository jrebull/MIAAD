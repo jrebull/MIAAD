{
  "nbformat": 4,
  "nbformat_minor": 0,
  "metadata": {
    "colab": {
      "provenance": []
    },
    "kernelspec": {
      "name": "python3",
      "display_name": "Python 3"
    },
    "language_info": {
      "name": "python"
    }
  },
  "cells": [
    {
      "cell_type": "markdown",
      "source": [
        "<div align=\"center\">\n",
        "\n",
        "🎓\n",
        "# **Universidad Autónoma de Ciudad Juárez**\n",
        "## **Maestría en Inteligencia Artificial y Analítica de Datos (MIAAD)**\n",
        "<br><br>\n",
        "\n",
        "---\n",
        "<br>\n",
        "\n",
        "# 💻 **Práctica 1: Tipos de Variables en Python** 🐍\n",
        "<br>\n",
        "\n",
        "### MÓDULO 2: Programación\n",
        "<br>\n",
        "\n",
        "---\n",
        "<br>\n",
        "\n",
        "🧑‍🏫 **Profesor Titular:** Dr. Luis Carlos Méndez González\n",
        "<br><br>\n",
        "\n",
        "---\n",
        "<br>\n",
        "\n",
        "🧑‍🎓 **Estudiante:**\n",
        "## **Javier Augusto Rebull Saucedo**\n",
        "Candidato a Entrar al Postgrado\n",
        "<br><br>\n",
        "\n",
        "</div>\n",
        "\n",
        "---\n",
        "\n",
        "<div align=\"right\">\n",
        "📚 Curso Propedéutico - MIAAD\n",
        "<br>\n",
        "📅 01 de junio de 2025\n",
        "</div>\n",
        "\n",
        "\n",
        "\n",
        "---\n",
        "\n",
        "## Requisitos de Finalización\n",
        "\n",
        "* **Abre:** viernes, 9 de mayo de 2025, 00:00\n",
        "* **Vence:** domingo, 1 de junio de 2025, 23:58\n",
        "\n",
        "---\n",
        "\n",
        "## Descripción\n",
        "\n",
        "Declara diferentes tipos de variables en Python y muestra su valor y tipo.\n",
        "\n",
        "---\n",
        "\n",
        "## Instrucciones:\n",
        "\n",
        "1.  Crea las siguientes variables en Python:\n",
        "    * Una variable **entera**.\n",
        "    * Una variable de **punto flotante**.\n",
        "    * Una variable de **texto** (cadena).\n",
        "    * Una variable **booleana**.\n",
        "2.  Utiliza la función `print()` para mostrar el **valor** y el **tipo** de cada variable.\n",
        "3.  Envía tu código en un archivo `.py` y una **captura de pantalla** de los resultados obtenidos al ejecutar tu código.\n",
        "\n",
        "---"
      ],
      "metadata": {
        "id": "B3_v3sPd7ZC2"
      }
    },
    {
      "cell_type": "code",
      "execution_count": 1,
      "metadata": {
        "id": "LrjZXmJQ6OIV"
      },
      "outputs": [],
      "source": [
        "# Declaración de una variable entera\n",
        "variable_entera = 10\n",
        "\n",
        "# Declaración de una variable de punto flotante\n",
        "variable_flotante = 25.75\n",
        "\n",
        "# Declaración de una variable de texto (cadena)\n",
        "variable_texto = \"Hola, Python!\"\n",
        "\n",
        "# Declaración de una variable booleana\n",
        "variable_booleana = False"
      ]
    },
    {
      "cell_type": "code",
      "source": [
        "# --- Variable Entera ---\n",
        "print(\"--- Variable Entera ---\")\n",
        "print(\"Valor:\", variable_entera)\n",
        "print(\"Tipo:\", type(variable_entera))\n",
        "print()\n",
        "\n",
        "# --- Variable de Punto Flotante ---\n",
        "print(\"--- Variable de Punto Flotante ---\")\n",
        "print(\"Valor:\", variable_flotante)\n",
        "print(\"Tipo:\", type(variable_flotante))\n",
        "print()\n",
        "\n",
        "# --- Variable de Texto (Cadena) ---\n",
        "print(\"--- Variable de Texto (Cadena) ---\")\n",
        "print(\"Valor:\", variable_texto)\n",
        "print(\"Tipo:\", type(variable_texto))\n",
        "print()\n",
        "\n",
        "# --- Variable Booleana ---\n",
        "print(\"--- Variable Booleana ---\")\n",
        "print(\"Valor:\", variable_booleana)\n",
        "print(\"Tipo:\", type(variable_booleana))\n",
        "print()"
      ],
      "metadata": {
        "colab": {
          "base_uri": "https://localhost:8080/",
          "height": 0
        },
        "id": "jjwo5Mbi6kl3",
        "outputId": "7791660a-cf95-4338-ab4e-6f8cf2e4512a"
      },
      "execution_count": 2,
      "outputs": [
        {
          "output_type": "stream",
          "name": "stdout",
          "text": [
            "--- Variable Entera ---\n",
            "Valor: 10\n",
            "Tipo: <class 'int'>\n",
            "\n",
            "--- Variable de Punto Flotante ---\n",
            "Valor: 25.75\n",
            "Tipo: <class 'float'>\n",
            "\n",
            "--- Variable de Texto (Cadena) ---\n",
            "Valor: Hola, Python!\n",
            "Tipo: <class 'str'>\n",
            "\n",
            "--- Variable Booleana ---\n",
            "Valor: False\n",
            "Tipo: <class 'bool'>\n",
            "\n"
          ]
        }
      ]
    }
  ]
}